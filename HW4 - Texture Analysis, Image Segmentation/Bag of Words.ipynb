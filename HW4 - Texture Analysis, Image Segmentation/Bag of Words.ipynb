{
 "cells": [
  {
   "cell_type": "code",
   "execution_count": 77,
   "metadata": {},
   "outputs": [],
   "source": [
    "import cv2\n",
    "import numpy as np\n",
    "import matplotlib.pyplot as plt\n",
    "from numpy.linalg import inv\n",
    "import math as mt\n",
    "from sklearn import decomposition\n",
    "import pandas as pd\n",
    "from sklearn.cluster import KMeans"
   ]
  },
  {
   "cell_type": "code",
   "execution_count": 167,
   "metadata": {},
   "outputs": [],
   "source": [
    "#Function to read the image\n",
    "def reading_image(Image):\n",
    "    Image_raw = open(Image,'rb').read()\n",
    "    Image_raw = np.frombuffer(Image_raw,np.uint8)\n",
    "    Image_matrix = Image_raw[0:Row_Size*Column_Size]\n",
    "    Image_matrix = np.reshape(Image_matrix, (Row_Size,Column_Size))\n",
    "    return Image_matrix;\n"
   ]
  },
  {
   "cell_type": "code",
   "execution_count": null,
   "metadata": {},
   "outputs": [],
   "source": [
    "def kmeans_clustering(Components):\n",
    "    kmeans = KMeans(n_clusters=2)\n",
    "    kmeans.fit(Components)\n",
    "    labels = kmeans.predict(Components)\n",
    "    return labels,kmeans;\n"
   ]
  },
  {
   "cell_type": "code",
   "execution_count": 168,
   "metadata": {},
   "outputs": [],
   "source": [
    "Row_Size = 28;\n",
    "Column_Size = 28;\n",
    "Input_image1 = reading_image('zero_1.raw')\n",
    "Input_image2 = reading_image('zero_2.raw')\n",
    "Input_image3 = reading_image('zero_3.raw')\n",
    "Input_image4 = reading_image('zero_4.raw')\n",
    "Input_image5 = reading_image('zero_5.raw')\n",
    "Input_image6 = reading_image('one_1.raw')\n",
    "Input_image7 = reading_image('one_2.raw')\n",
    "Input_image8 = reading_image('one_3.raw')\n",
    "Input_image9 = reading_image('one_4.raw')\n",
    "Input_image10 = reading_image('one_5.raw')\n",
    "Test_image = reading_image('eight.raw')"
   ]
  },
  {
   "cell_type": "code",
   "execution_count": 169,
   "metadata": {},
   "outputs": [],
   "source": [
    "sift1 = cv2.xfeatures2d.SIFT_create()\n",
    "sift2 = cv2.xfeatures2d.SIFT_create()\n",
    "sift3 = cv2.xfeatures2d.SIFT_create()"
   ]
  },
  {
   "cell_type": "code",
   "execution_count": 170,
   "metadata": {},
   "outputs": [],
   "source": [
    "kp1, des1 = sift1.detectAndCompute(Input_image1,None)\n",
    "kp2, des2 = sift1.detectAndCompute(Input_image2,None)\n",
    "kp3, des3 = sift1.detectAndCompute(Input_image3,None)\n",
    "kp4, des4 = sift1.detectAndCompute(Input_image4,None)\n",
    "kp5, des5 = sift1.detectAndCompute(Input_image5,None)"
   ]
  },
  {
   "cell_type": "code",
   "execution_count": 171,
   "metadata": {},
   "outputs": [],
   "source": [
    "kp6, des6 = sift2.detectAndCompute(Input_image6,None)\n",
    "kp7, des7 = sift2.detectAndCompute(Input_image7,None)\n",
    "kp8, des8 = sift2.detectAndCompute(Input_image8,None)\n",
    "kp9, des9 = sift2.detectAndCompute(Input_image9,None)\n",
    "kp10, des10 = sift2.detectAndCompute(Input_image10,None)"
   ]
  },
  {
   "cell_type": "code",
   "execution_count": 172,
   "metadata": {},
   "outputs": [
    {
     "data": {
      "text/plain": [
       "(5, 128)"
      ]
     },
     "execution_count": 172,
     "metadata": {},
     "output_type": "execute_result"
    }
   ],
   "source": [
    "np.shape(des9)"
   ]
  },
  {
   "cell_type": "code",
   "execution_count": 173,
   "metadata": {},
   "outputs": [],
   "source": [
    "kptest, destest = sift3.detectAndCompute(Test_image,None)"
   ]
  },
  {
   "cell_type": "code",
   "execution_count": 174,
   "metadata": {},
   "outputs": [],
   "source": [
    "des0 = np.zeros((42,128))\n",
    "des0[0:12,:] = des1;\n",
    "des0[12:20,:] = des2;\n",
    "des0[20:22,:] =des3;\n",
    "des0[22:34,:] = des4;\n",
    "des0[34:41,:] = des5;"
   ]
  },
  {
   "cell_type": "code",
   "execution_count": 176,
   "metadata": {},
   "outputs": [],
   "source": [
    "des1 = np.zeros((14,128))\n",
    "des1[0:2,:] =des6;\n",
    "des1[2:5,:] =des7;\n",
    "des1[5:8,:] =des8;\n",
    "des1[8:13,:] = des9;"
   ]
  },
  {
   "cell_type": "code",
   "execution_count": 177,
   "metadata": {},
   "outputs": [],
   "source": [
    "Labels0,kmeans0 = kmeans_clustering(des0);"
   ]
  },
  {
   "cell_type": "code",
   "execution_count": 178,
   "metadata": {},
   "outputs": [
    {
     "data": {
      "text/plain": [
       "array([1, 0, 0, 0, 0, 0, 0, 1, 1, 0, 1, 0, 0, 1, 0, 1, 0, 0, 1, 1, 1, 1,\n",
       "       1, 0, 0, 1, 1, 0, 0, 1, 0, 1, 0, 0, 0, 1, 1, 0, 0, 1, 1, 0])"
      ]
     },
     "execution_count": 178,
     "metadata": {},
     "output_type": "execute_result"
    }
   ],
   "source": [
    "Labels0"
   ]
  },
  {
   "cell_type": "code",
   "execution_count": 179,
   "metadata": {},
   "outputs": [],
   "source": [
    "Labels1,kmeans1 = kmeans_clustering(des1);"
   ]
  },
  {
   "cell_type": "code",
   "execution_count": 180,
   "metadata": {},
   "outputs": [
    {
     "data": {
      "text/plain": [
       "array([1, 1, 0, 0, 1, 1, 0, 1, 1, 0, 0, 0, 1, 0])"
      ]
     },
     "execution_count": 180,
     "metadata": {},
     "output_type": "execute_result"
    }
   ],
   "source": [
    "Labels1"
   ]
  },
  {
   "cell_type": "code",
   "execution_count": 181,
   "metadata": {},
   "outputs": [],
   "source": [
    "Labelstest,kmeanstest = kmeans_clustering(destest);"
   ]
  },
  {
   "cell_type": "code",
   "execution_count": 182,
   "metadata": {},
   "outputs": [
    {
     "data": {
      "text/plain": [
       "array([0, 1, 1, 0, 1, 1, 1, 1, 0, 1, 1, 0])"
      ]
     },
     "execution_count": 182,
     "metadata": {},
     "output_type": "execute_result"
    }
   ],
   "source": [
    "Labelstest"
   ]
  },
  {
   "cell_type": "code",
   "execution_count": 198,
   "metadata": {},
   "outputs": [
    {
     "data": {
      "text/plain": [
       "Text(0,0.5,'frequency')"
      ]
     },
     "execution_count": 198,
     "metadata": {},
     "output_type": "execute_result"
    },
    {
     "data": {
      "image/png": "[encoded data removed]",
      "text/plain": [
       "<Figure size 432x288 with 1 Axes>"
      ]
     },
     "metadata": {},
     "output_type": "display_data"
    }
   ],
   "source": [
    "n0 ,  bins0, patches0 = plt.hist(Labels0)\n",
    "plt.title('Histogram for zero training data')\n",
    "plt.xlabel('codewords')\n",
    "plt.ylabel('frequency')\n"
   ]
  },
  {
   "cell_type": "code",
   "execution_count": 184,
   "metadata": {},
   "outputs": [
    {
     "data": {
      "text/plain": [
       "array([0. , 0.1, 0.2, 0.3, 0.4, 0.5, 0.6, 0.7, 0.8, 0.9, 1. ])"
      ]
     },
     "execution_count": 184,
     "metadata": {},
     "output_type": "execute_result"
    }
   ],
   "source": [
    "bins0"
   ]
  },
  {
   "cell_type": "code",
   "execution_count": 200,
   "metadata": {},
   "outputs": [
    {
     "data": {
      "text/plain": [
       "Text(0,0.5,'frequency')"
      ]
     },
     "execution_count": 200,
     "metadata": {},
     "output_type": "execute_result"
    },
    {
     "data": {
      "image/png": "[encoded data removed]",
      "text/plain": [
       "<Figure size 432x288 with 1 Axes>"
      ]
     },
     "metadata": {},
     "output_type": "display_data"
    }
   ],
   "source": [
    "n1 ,  bins1, patches1 = plt.hist(Labels1)\n",
    "plt.title('Histogram for ones training data')\n",
    "plt.xlabel('codewords')\n",
    "plt.ylabel('frequency')"
   ]
  },
  {
   "cell_type": "code",
   "execution_count": 186,
   "metadata": {},
   "outputs": [
    {
     "data": {
      "text/plain": [
       "array([0. , 0.1, 0.2, 0.3, 0.4, 0.5, 0.6, 0.7, 0.8, 0.9, 1. ])"
      ]
     },
     "execution_count": 186,
     "metadata": {},
     "output_type": "execute_result"
    }
   ],
   "source": [
    "bins1"
   ]
  },
  {
   "cell_type": "code",
   "execution_count": 199,
   "metadata": {},
   "outputs": [
    {
     "data": {
      "text/plain": [
       "Text(0,0.5,'frequency')"
      ]
     },
     "execution_count": 199,
     "metadata": {},
     "output_type": "execute_result"
    },
    {
     "data": {
      "image/png": "[encoded data removed]",
      "text/plain": [
       "<Figure size 432x288 with 1 Axes>"
      ]
     },
     "metadata": {},
     "output_type": "display_data"
    }
   ],
   "source": [
    "ntest,binstest,patchestest = plt.hist(Labelstest)\n",
    "plt.title('Histogram for testing data')\n",
    "plt.xlabel('codewords')\n",
    "plt.ylabel('frequency')"
   ]
  },
  {
   "cell_type": "code",
   "execution_count": 188,
   "metadata": {},
   "outputs": [
    {
     "data": {
      "text/plain": [
       "array([0. , 0.1, 0.2, 0.3, 0.4, 0.5, 0.6, 0.7, 0.8, 0.9, 1. ])"
      ]
     },
     "execution_count": 188,
     "metadata": {},
     "output_type": "execute_result"
    }
   ],
   "source": [
    "binstest"
   ]
  },
  {
   "cell_type": "code",
   "execution_count": 189,
   "metadata": {},
   "outputs": [
    {
     "data": {
      "text/plain": [
       "array([23.,  0.,  0.,  0.,  0.,  0.,  0.,  0.,  0., 19.])"
      ]
     },
     "execution_count": 189,
     "metadata": {},
     "output_type": "execute_result"
    }
   ],
   "source": [
    "n0"
   ]
  },
  {
   "cell_type": "code",
   "execution_count": 190,
   "metadata": {},
   "outputs": [
    {
     "data": {
      "text/plain": [
       "array([7., 0., 0., 0., 0., 0., 0., 0., 0., 7.])"
      ]
     },
     "execution_count": 190,
     "metadata": {},
     "output_type": "execute_result"
    }
   ],
   "source": [
    "n1"
   ]
  },
  {
   "cell_type": "code",
   "execution_count": 191,
   "metadata": {},
   "outputs": [
    {
     "data": {
      "text/plain": [
       "array([4., 0., 0., 0., 0., 0., 0., 0., 0., 8.])"
      ]
     },
     "execution_count": 191,
     "metadata": {},
     "output_type": "execute_result"
    }
   ],
   "source": [
    "ntest"
   ]
  },
  {
   "cell_type": "code",
   "execution_count": 192,
   "metadata": {},
   "outputs": [],
   "source": [
    "ratio0 = [];\n",
    "for i in range(0, len(n0)):\n",
    "    if (n0[i] > 0 and ntest[i] > 0):\n",
    "        if n0[i]> ntest[i]:\n",
    "            ratio0.append(ntest[i]/n0[i]);\n",
    "        else:\n",
    "            ratio0.append(n0[i] / ntest[i]);"
   ]
  },
  {
   "cell_type": "code",
   "execution_count": 193,
   "metadata": {},
   "outputs": [],
   "source": [
    "ratio0sum = sum(ratio0)"
   ]
  },
  {
   "cell_type": "code",
   "execution_count": 194,
   "metadata": {},
   "outputs": [
    {
     "data": {
      "text/plain": [
       "0.5949656750572082"
      ]
     },
     "execution_count": 194,
     "metadata": {},
     "output_type": "execute_result"
    }
   ],
   "source": [
    "ratio0sum"
   ]
  },
  {
   "cell_type": "code",
   "execution_count": 195,
   "metadata": {},
   "outputs": [],
   "source": [
    "ratio1 = [];\n",
    "for i in range(0, len(n1)):\n",
    "    if (n1[i] > 0 and ntest[i] > 0):\n",
    "        if n1[i]> ntest[i]:\n",
    "            ratio1.append(ntest[i]/n1[i]);\n",
    "        else:\n",
    "            ratio1.append(n1[i] / ntest[i]);"
   ]
  },
  {
   "cell_type": "code",
   "execution_count": 196,
   "metadata": {},
   "outputs": [],
   "source": [
    "ratio1sum = sum(ratio1)"
   ]
  },
  {
   "cell_type": "code",
   "execution_count": 197,
   "metadata": {},
   "outputs": [
    {
     "data": {
      "text/plain": [
       "1.4464285714285714"
      ]
     },
     "execution_count": 197,
     "metadata": {},
     "output_type": "execute_result"
    }
   ],
   "source": [
    "ratio1sum"
   ]
  },
  {
   "cell_type": "code",
   "execution_count": null,
   "metadata": {},
   "outputs": [],
   "source": []
  }
 ],
 "metadata": {
  "kernelspec": {
   "display_name": "Python 3",
   "language": "python",
   "name": "python3"
  },
  "language_info": {
   "codemirror_mode": {
    "name": "ipython",
    "version": 3
   },
   "file_extension": ".py",
   "mimetype": "text/x-python",
   "name": "python",
   "nbconvert_exporter": "python",
   "pygments_lexer": "ipython3",
   "version": "3.6.5"
  }
 },
 "nbformat": 4,
 "nbformat_minor": 2
}
